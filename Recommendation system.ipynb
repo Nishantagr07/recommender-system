{
  "cells": [
    {
      "metadata": {
        "collapsed": true
      },
      "cell_type": "markdown",
      "source": "## Importing necessary modules"
    },
    {
      "metadata": {
        "trusted": true
      },
      "cell_type": "code",
      "source": "import pandas as pd\nimport numpy as np\nimport matplotlib.pyplot as plt",
      "execution_count": 21,
      "outputs": []
    },
    {
      "metadata": {},
      "cell_type": "markdown",
      "source": "# Overviewing Data"
    },
    {
      "metadata": {
        "trusted": true
      },
      "cell_type": "code",
      "source": "users=pd.read_csv('users.csv')\nprint(users.head())\nprint('\\n')\nprint(users.describe())",
      "execution_count": 22,
      "outputs": [
        {
          "output_type": "stream",
          "text": "                        _id                  name gender      academics\n0  5d60098a653a331687083238  Nivesh Singh Chauhan   male  undergraduate\n1  5d610ae1653a331687083239         Gaurav Sharma   male       graduate\n2  5d618359fc5fcf3bdd9a0910         Akshay Mishra   male  undergraduate\n3  5d6d2bb87fa40e1417a49315        Saksham Mathur   male  undergraduate\n4  5d7c994d5720533e15c3b1e9         Varun Chowhan   male  undergraduate\n\n\n                             _id    name gender      academics\ncount                        118     118    118            118\nunique                       118     118      3              3\ntop     5d610ae1653a331687083239  Varsha   male  undergraduate\nfreq                           1       1     72             68\n",
          "name": "stdout"
        }
      ]
    },
    {
      "metadata": {
        "trusted": true
      },
      "cell_type": "code",
      "source": "posts=pd.read_csv('posts.csv')\nprint(posts.head())\nposts.describe()",
      "execution_count": 23,
      "outputs": [
        {
          "output_type": "stream",
          "text": "                        _id                          title  \\\n0  5d62abaa65218653a132c956                    hello there   \n1  5d6d39567fa40e1417a4931c                      Ml and AI   \n2  5d7d23315720533e15c3b1ee  What is an Operating System ?   \n3  5d7d405e5720533e15c3b1f3                     Lord Shiva   \n4  5d80dfbc6c53455f896e600e   How Competition law evolved?   \n\n                                            category  post_type  \n0                                Plant Biotechnology       blog  \n1  Artificial Intelligence|Machine Learning|Infor...       blog  \n2                                  Operating Systems       blog  \n3                                           Drawings    artwork  \n4                                   Competition Laws       blog  \n",
          "name": "stdout"
        },
        {
          "output_type": "execute_result",
          "execution_count": 23,
          "data": {
            "text/plain": "                             _id             title     category  post_type\ncount                        493               493          465        493\nunique                       493               477          231          4\ntop     5e36746a8d344822fed4d147  PENCIL RENDERING  Photography    artwork\nfreq                           1                 3           81        241",
            "text/html": "<div>\n<table border=\"1\" class=\"dataframe\">\n  <thead>\n    <tr style=\"text-align: right;\">\n      <th></th>\n      <th>_id</th>\n      <th>title</th>\n      <th>category</th>\n      <th>post_type</th>\n    </tr>\n  </thead>\n  <tbody>\n    <tr>\n      <th>count</th>\n      <td>493</td>\n      <td>493</td>\n      <td>465</td>\n      <td>493</td>\n    </tr>\n    <tr>\n      <th>unique</th>\n      <td>493</td>\n      <td>477</td>\n      <td>231</td>\n      <td>4</td>\n    </tr>\n    <tr>\n      <th>top</th>\n      <td>5e36746a8d344822fed4d147</td>\n      <td>PENCIL RENDERING</td>\n      <td>Photography</td>\n      <td>artwork</td>\n    </tr>\n    <tr>\n      <th>freq</th>\n      <td>1</td>\n      <td>3</td>\n      <td>81</td>\n      <td>241</td>\n    </tr>\n  </tbody>\n</table>\n</div>"
          },
          "metadata": {}
        }
      ]
    },
    {
      "metadata": {
        "trusted": true
      },
      "cell_type": "code",
      "source": "views=pd.read_csv('views.csv')\nprint(views.head())\nviews.describe()",
      "execution_count": 24,
      "outputs": [
        {
          "output_type": "stream",
          "text": "                    user_id                   post_id  \\\n0  5df49b32cc709107827fb3c7  5ec821ddec493f4a2655889e   \n1  5ed3748576027d35905ccaab  5ed4cbadbd514d602c1531a6   \n2  5ed0defa76027d35905cc2de  5eac305f10426255a7aa9dd3   \n3  5ed0defa76027d35905cc2de  5ed1ff0276027d35905cc60d   \n4  5ed0defa76027d35905cc2de  5ed3820f76027d35905ccac8   \n\n                  timestamp  \n0  2020-06-01T10:46:45.131Z  \n1  2020-06-01T09:39:20.021Z  \n2  2020-06-01T08:12:42.682Z  \n3  2020-06-01T08:10:23.880Z  \n4  2020-06-01T08:08:54.124Z  \n",
          "name": "stdout"
        },
        {
          "output_type": "execute_result",
          "execution_count": 24,
          "data": {
            "text/plain": "                         user_id                   post_id  \\\ncount                       1449                      1449   \nunique                       118                       495   \ntop     5d60098a653a331687083238  5ec1fd0974f7660d73aa0fd5   \nfreq                         230                        18   \n\n                       timestamp  \ncount                       1449  \nunique                      1449  \ntop     2020-05-20T15:54:43.577Z  \nfreq                           1  ",
            "text/html": "<div>\n<table border=\"1\" class=\"dataframe\">\n  <thead>\n    <tr style=\"text-align: right;\">\n      <th></th>\n      <th>user_id</th>\n      <th>post_id</th>\n      <th>timestamp</th>\n    </tr>\n  </thead>\n  <tbody>\n    <tr>\n      <th>count</th>\n      <td>1449</td>\n      <td>1449</td>\n      <td>1449</td>\n    </tr>\n    <tr>\n      <th>unique</th>\n      <td>118</td>\n      <td>495</td>\n      <td>1449</td>\n    </tr>\n    <tr>\n      <th>top</th>\n      <td>5d60098a653a331687083238</td>\n      <td>5ec1fd0974f7660d73aa0fd5</td>\n      <td>2020-05-20T15:54:43.577Z</td>\n    </tr>\n    <tr>\n      <th>freq</th>\n      <td>230</td>\n      <td>18</td>\n      <td>1</td>\n    </tr>\n  </tbody>\n</table>\n</div>"
          },
          "metadata": {}
        }
      ]
    },
    {
      "metadata": {},
      "cell_type": "markdown",
      "source": "# Building a posts recommendation system on the basis of post."
    },
    {
      "metadata": {
        "trusted": true
      },
      "cell_type": "code",
      "source": "print(posts[' post_type'].value_counts())\nprint('\\n')\nposts['category'].value_counts()",
      "execution_count": 25,
      "outputs": [
        {
          "output_type": "stream",
          "text": "artwork    241\nblog       198\nskill       27\nproject     27\nName:  post_type, dtype: int64\n\n\n",
          "name": "stdout"
        },
        {
          "output_type": "execute_result",
          "execution_count": 25,
          "data": {
            "text/plain": "Photography                                                                                                 81\nDrawings                                                                                                    47\nPainting                                                                                                    20\nVisual Arts                                                                                                 10\nComputer Technology|Machine Learning                                                                         7\nComputer Technology|Computer Application|Information Technology                                              7\nCompetition Laws                                                                                             5\nTypography|Pen and ink                                                                                       5\nMass Media|Indian Government                                                                                 5\nComputer Technology|Information Technology                                                                   4\nPhotography|Architecture                                                                                     4\nComputer Technology|Computer Application                                                                     4\nArt                                                                                                          3\nPen and ink                                                                                                  3\nDrawing                                                                                                      3\nMixed Media                                                                                                  3\nCalligraphy|Typography|Pen and ink                                                                           3\nMarketing|Advertising                                                                                        3\nBusiness|Business Organisation                                                                               3\nGeography|Physical Geography                                                                                 3\nComputer Technology|Cloud Computing                                                                          3\nComputer Technology|Data Science                                                                             2\nHistory|Indian History                                                                                       2\nTechnology                                                                                                   2\nPhilosophy|Logic                                                                                             2\nE Commerce|E Transactions                                                                                    2\nAccounting|Fundamental Of Accounting                                                                         2\nComputer Technology|Artificial Intelligence                                                                  2\nComputer Technology|Computation                                                                              2\nDrawings|Calligraphy                                                                                         2\n                                                                                                            ..\nFashion Desigining|Pattern & Culture|Fashion Textile|Fashion Trends                                          1\nComputer Technology|Computer Application|Operating Systems                                                   1\nLegal Studies|Alternate Dispute Resolution|International Treaties|International Agreement                    1\nDrawings|Painting|Visual Arts|Artistic design|Watercolours|Acrylics                                          1\nPhysiology|Neurology                                                                                         1\nBiotechnology|Molecular Biology                                                                              1\nDrawings|Artistic design|Illustration                                                                        1\nPsycholgy|Child Development                                                                                  1\nDrawings|Fashion Design|Mixed Media|Conceptual|Illustration|Pen and ink|Watercolours                         1\nHuman Resources|HR Management                                                                                1\nComputer Technology|Cloud Computing|Artificial Intelligence|Information Technology|Programming languages     1\nComputer Technology|Computer Application|Hardware|Information Technology                                     1\nHuman Rights|Fundamental Rights                                                                              1\nMusic                                                                                                        1\nScience;Technology                                                                                           1\nArtistic design|Logo Design|Graphic|Illustration                                                             1\nLiterature|Movements in Literature                                                                           1\nTapestry                                                                                                     1\nArt; Science                                                                                                 1\nMathematics|Linear Algebra                                                                                   1\nDrawings|Painting|Watercolours                                                                               1\nCraft|Mixed Media|Conceptual|Mosaic painting|2D Composition                                                  1\nPhysiology|Osteology                                                                                         1\nSculptures                                                                                                   1\nEmpowerment                                                                                                  1\nPhotography|Architecture|Visual Arts|Graphic Design                                                          1\nVisual Arts|Craft|Conceptual                                                                                 1\nEducation                                                                                                    1\nE Commerce|Shopping Platform|Other Online Platforms|Digital India                                            1\nPhotography|Architecture|Painting                                                                            1\nName: category, dtype: int64"
          },
          "metadata": {}
        }
      ]
    },
    {
      "metadata": {},
      "cell_type": "markdown",
      "source": "# Building a content based recommender system using Category Subgroup"
    },
    {
      "metadata": {
        "trusted": true
      },
      "cell_type": "code",
      "source": "posts[posts[' post_type'].isnull()]",
      "execution_count": 26,
      "outputs": [
        {
          "output_type": "execute_result",
          "execution_count": 26,
          "data": {
            "text/plain": "Empty DataFrame\nColumns: [_id, title, category,  post_type]\nIndex: []",
            "text/html": "<div>\n<table border=\"1\" class=\"dataframe\">\n  <thead>\n    <tr style=\"text-align: right;\">\n      <th></th>\n      <th>_id</th>\n      <th>title</th>\n      <th>category</th>\n      <th>post_type</th>\n    </tr>\n  </thead>\n  <tbody>\n  </tbody>\n</table>\n</div>"
          },
          "metadata": {}
        }
      ]
    },
    {
      "metadata": {
        "trusted": true
      },
      "cell_type": "code",
      "source": "posts[posts['category'].isnull()]",
      "execution_count": 27,
      "outputs": [
        {
          "output_type": "execute_result",
          "execution_count": 27,
          "data": {
            "text/plain": "                          _id  \\\n24   5ddeb6e80eb5e25a8a07f065   \n25   5de179d80eb5e25a8a07f079   \n29   5dee9b5042a8854bf6eabaaf   \n65   5e3ea110eab55d319938a7a7   \n88   5e4c3873f5561b1994c8e3d9   \n93   5e4da502f5561b1994c8e42c   \n94   5e4da7c8f5561b1994c8e439   \n95   5e4dab15f5561b1994c8e446   \n96   5e4ed85af5561b1994c8e470   \n97   5e4ed8ccf5561b1994c8e47d   \n98   5e4edd1bf5561b1994c8e48a   \n99   5e4edd87f5561b1994c8e497   \n227  5e8c2d01a3258347b42f2627   \n228  5e8c993da3258347b42f264d   \n229  5e8cb88ea3258347b42f267e   \n230  5e8cc876a3258347b42f26a3   \n231  5e8ccfb5a3258347b42f26bc   \n352  5ea5aacd10426255a7aa9b71   \n353  5ea5ce9310426255a7aa9b8d   \n374  5eaf3d4110426255a7aa9f4c   \n394  5eb1df6d10426255a7aaa029   \n442  5eca8fceeaff6b0c3a58a3c0   \n463  5ed0e31a76027d35905cc302   \n464  5ed0e65976027d35905cc356   \n465  5ed0f0c576027d35905cc3c7   \n468  5ed175f176027d35905cc554   \n469  5ed175f476027d35905cc562   \n490  5ed3ef4cbd514d602c1530f2   \n\n                                                 title category  post_type  \n24   Library Managment System: Software Requirement...      NaN    project  \n25          Navigation system using BFS DFS algorithms      NaN    project  \n29               Computer Aided Machine Drawing (CAMD)      NaN    project  \n65                                                  OS      NaN    project  \n88                               Bill Calculation(PHP)      NaN    project  \n93                                      Prime No.(PHP)      NaN    project  \n94                             Factorial of a No.(PHP)      NaN    project  \n95                                 Palindrome No.(PHP)      NaN    project  \n96                                    Factorial (.net)      NaN    project  \n97                           Leap year checking (.net)      NaN    project  \n98                                     Delegates(.net)      NaN    project  \n99                            Overloading Method(.net)      NaN    project  \n227                         Even and Odd Numbers (PHP)      NaN    project  \n228                             Armstrong No.(C# .Net)      NaN    project  \n229                               Palindrome (C# .Net)      NaN    project  \n230                     Negative or Positive No. (PHP)      NaN    project  \n231                            Friend Number (C# .Net)      NaN    project  \n352                            Photography Composition      NaN    project  \n353                                        Photography      NaN    project  \n374                               Students Networking!      NaN       blog  \n394                          Novel & Consenent (P.H.P)      NaN    project  \n442                               Zero-Waste Lifestyle      NaN    project  \n463  Designing Cmos circuit from Boolean expression...      NaN    project  \n464                        Moore FSM Sequence Detector      NaN    project  \n465              Designing Circular Microstrip Antenna      NaN    project  \n468                                 GAN's Introduction      NaN    project  \n469                                 GAN's Introduction      NaN    project  \n490                              Recommendation Engine      NaN    project  ",
            "text/html": "<div>\n<table border=\"1\" class=\"dataframe\">\n  <thead>\n    <tr style=\"text-align: right;\">\n      <th></th>\n      <th>_id</th>\n      <th>title</th>\n      <th>category</th>\n      <th>post_type</th>\n    </tr>\n  </thead>\n  <tbody>\n    <tr>\n      <th>24</th>\n      <td>5ddeb6e80eb5e25a8a07f065</td>\n      <td>Library Managment System: Software Requirement...</td>\n      <td>NaN</td>\n      <td>project</td>\n    </tr>\n    <tr>\n      <th>25</th>\n      <td>5de179d80eb5e25a8a07f079</td>\n      <td>Navigation system using BFS DFS algorithms</td>\n      <td>NaN</td>\n      <td>project</td>\n    </tr>\n    <tr>\n      <th>29</th>\n      <td>5dee9b5042a8854bf6eabaaf</td>\n      <td>Computer Aided Machine Drawing (CAMD)</td>\n      <td>NaN</td>\n      <td>project</td>\n    </tr>\n    <tr>\n      <th>65</th>\n      <td>5e3ea110eab55d319938a7a7</td>\n      <td>OS</td>\n      <td>NaN</td>\n      <td>project</td>\n    </tr>\n    <tr>\n      <th>88</th>\n      <td>5e4c3873f5561b1994c8e3d9</td>\n      <td>Bill Calculation(PHP)</td>\n      <td>NaN</td>\n      <td>project</td>\n    </tr>\n    <tr>\n      <th>93</th>\n      <td>5e4da502f5561b1994c8e42c</td>\n      <td>Prime No.(PHP)</td>\n      <td>NaN</td>\n      <td>project</td>\n    </tr>\n    <tr>\n      <th>94</th>\n      <td>5e4da7c8f5561b1994c8e439</td>\n      <td>Factorial of a No.(PHP)</td>\n      <td>NaN</td>\n      <td>project</td>\n    </tr>\n    <tr>\n      <th>95</th>\n      <td>5e4dab15f5561b1994c8e446</td>\n      <td>Palindrome No.(PHP)</td>\n      <td>NaN</td>\n      <td>project</td>\n    </tr>\n    <tr>\n      <th>96</th>\n      <td>5e4ed85af5561b1994c8e470</td>\n      <td>Factorial (.net)</td>\n      <td>NaN</td>\n      <td>project</td>\n    </tr>\n    <tr>\n      <th>97</th>\n      <td>5e4ed8ccf5561b1994c8e47d</td>\n      <td>Leap year checking (.net)</td>\n      <td>NaN</td>\n      <td>project</td>\n    </tr>\n    <tr>\n      <th>98</th>\n      <td>5e4edd1bf5561b1994c8e48a</td>\n      <td>Delegates(.net)</td>\n      <td>NaN</td>\n      <td>project</td>\n    </tr>\n    <tr>\n      <th>99</th>\n      <td>5e4edd87f5561b1994c8e497</td>\n      <td>Overloading Method(.net)</td>\n      <td>NaN</td>\n      <td>project</td>\n    </tr>\n    <tr>\n      <th>227</th>\n      <td>5e8c2d01a3258347b42f2627</td>\n      <td>Even and Odd Numbers (PHP)</td>\n      <td>NaN</td>\n      <td>project</td>\n    </tr>\n    <tr>\n      <th>228</th>\n      <td>5e8c993da3258347b42f264d</td>\n      <td>Armstrong No.(C# .Net)</td>\n      <td>NaN</td>\n      <td>project</td>\n    </tr>\n    <tr>\n      <th>229</th>\n      <td>5e8cb88ea3258347b42f267e</td>\n      <td>Palindrome (C# .Net)</td>\n      <td>NaN</td>\n      <td>project</td>\n    </tr>\n    <tr>\n      <th>230</th>\n      <td>5e8cc876a3258347b42f26a3</td>\n      <td>Negative or Positive No. (PHP)</td>\n      <td>NaN</td>\n      <td>project</td>\n    </tr>\n    <tr>\n      <th>231</th>\n      <td>5e8ccfb5a3258347b42f26bc</td>\n      <td>Friend Number (C# .Net)</td>\n      <td>NaN</td>\n      <td>project</td>\n    </tr>\n    <tr>\n      <th>352</th>\n      <td>5ea5aacd10426255a7aa9b71</td>\n      <td>Photography Composition</td>\n      <td>NaN</td>\n      <td>project</td>\n    </tr>\n    <tr>\n      <th>353</th>\n      <td>5ea5ce9310426255a7aa9b8d</td>\n      <td>Photography</td>\n      <td>NaN</td>\n      <td>project</td>\n    </tr>\n    <tr>\n      <th>374</th>\n      <td>5eaf3d4110426255a7aa9f4c</td>\n      <td>Students Networking!</td>\n      <td>NaN</td>\n      <td>blog</td>\n    </tr>\n    <tr>\n      <th>394</th>\n      <td>5eb1df6d10426255a7aaa029</td>\n      <td>Novel &amp; Consenent (P.H.P)</td>\n      <td>NaN</td>\n      <td>project</td>\n    </tr>\n    <tr>\n      <th>442</th>\n      <td>5eca8fceeaff6b0c3a58a3c0</td>\n      <td>Zero-Waste Lifestyle</td>\n      <td>NaN</td>\n      <td>project</td>\n    </tr>\n    <tr>\n      <th>463</th>\n      <td>5ed0e31a76027d35905cc302</td>\n      <td>Designing Cmos circuit from Boolean expression...</td>\n      <td>NaN</td>\n      <td>project</td>\n    </tr>\n    <tr>\n      <th>464</th>\n      <td>5ed0e65976027d35905cc356</td>\n      <td>Moore FSM Sequence Detector</td>\n      <td>NaN</td>\n      <td>project</td>\n    </tr>\n    <tr>\n      <th>465</th>\n      <td>5ed0f0c576027d35905cc3c7</td>\n      <td>Designing Circular Microstrip Antenna</td>\n      <td>NaN</td>\n      <td>project</td>\n    </tr>\n    <tr>\n      <th>468</th>\n      <td>5ed175f176027d35905cc554</td>\n      <td>GAN's Introduction</td>\n      <td>NaN</td>\n      <td>project</td>\n    </tr>\n    <tr>\n      <th>469</th>\n      <td>5ed175f476027d35905cc562</td>\n      <td>GAN's Introduction</td>\n      <td>NaN</td>\n      <td>project</td>\n    </tr>\n    <tr>\n      <th>490</th>\n      <td>5ed3ef4cbd514d602c1530f2</td>\n      <td>Recommendation Engine</td>\n      <td>NaN</td>\n      <td>project</td>\n    </tr>\n  </tbody>\n</table>\n</div>"
          },
          "metadata": {}
        }
      ]
    },
    {
      "metadata": {
        "trusted": true
      },
      "cell_type": "code",
      "source": "posts=posts.dropna().reset_index(drop=True)",
      "execution_count": 28,
      "outputs": []
    },
    {
      "metadata": {
        "trusted": true
      },
      "cell_type": "code",
      "source": "from sklearn.feature_extraction.text import TfidfVectorizer\ntf = TfidfVectorizer(analyzer='word',ngram_range=(1, 2),min_df=0, stop_words='english')\ntfidf_matrix = tf.fit_transform(posts['category'])\nfrom sklearn.metrics.pairwise import linear_kernel\ncosine_sim = linear_kernel(tfidf_matrix, tfidf_matrix)",
      "execution_count": 29,
      "outputs": []
    },
    {
      "metadata": {
        "trusted": true
      },
      "cell_type": "code",
      "source": "titles = posts['title']\nindices = pd.Series(posts.index, index=posts['title'])\n\n# Function that get movie recommendations based on the cosine similarity score of movie genres\ndef posts_recommendations(title):\n    idx = indices[title]\n    sim_scores = list(enumerate(cosine_sim[idx]))\n    sim_scores = sorted(sim_scores, key=lambda x: x[1], reverse=True)\n    sim_scores = sim_scores[1:21]\n    posts_indices = [i[0] for i in sim_scores]\n    return titles.iloc[posts_indices].head(10)",
      "execution_count": 30,
      "outputs": []
    },
    {
      "metadata": {},
      "cell_type": "markdown",
      "source": "# Enter the title of the post you want to get related posts for in postTitle"
    },
    {
      "metadata": {
        "trusted": true
      },
      "cell_type": "code",
      "source": "postTitle='Ml and AI'",
      "execution_count": 31,
      "outputs": []
    },
    {
      "metadata": {},
      "cell_type": "markdown",
      "source": "#### filtering results on the basis of post type"
    },
    {
      "metadata": {
        "trusted": true
      },
      "cell_type": "code",
      "source": "ptype=posts[posts['title']==postTitle][' post_type']",
      "execution_count": 32,
      "outputs": []
    },
    {
      "metadata": {},
      "cell_type": "markdown",
      "source": "Final Recommendations"
    },
    {
      "metadata": {
        "trusted": true
      },
      "cell_type": "code",
      "source": "posts_recommendations(postTitle)\ndf=pd.DataFrame(posts_recommendations(postTitle))\ndf.columns = ['title']\nfdf=posts[posts['title'].isin(df['title'])]\nfdf[fdf[' post_type']==ptype[1]]",
      "execution_count": 33,
      "outputs": [
        {
          "output_type": "execute_result",
          "execution_count": 33,
          "data": {
            "text/plain": "                          _id  \\\n110  5e5bdf4fd701ab08af792bfd   \n157  5e7bd922cfc8b713f5ac7da9   \n158  5e7c78fdcfc8b713f5ac7daa   \n174  5e81a4f2a3258347b42f21d3   \n212  5e897ab4a3258347b42f25ca   \n428  5ecd5d417023451e662235c5   \n432  5ecf818376027d35905cbf03   \n433  5ecf96e876027d35905cbf46   \n434  5ecfa0ca76027d35905cbf57   \n459  5ed2502b76027d35905cc7db   \n\n                                                 title  \\\n110                            Artificial Intelligence   \n157           What sports will look like in the future   \n158                                       Types Of AI.   \n174  7 Best Python Data Science Courses & Certifica...   \n212  10 Best Artificial Intelligence (AI) Courses O...   \n428             Machine Learning”&“Operations\" (MlOps)   \n432                                 GAN's INTRODUCTION   \n433                                      GAN's Part(2)   \n434                 Recommend Systems Machine Learning   \n459                                        Learning...   \n\n                                              category  post_type  \n110        Computer Technology|Artificial Intelligence       blog  \n157  Computer Technology|Robotics|Data Science|Info...       blog  \n158        Computer Technology|Artificial Intelligence       blog  \n174               Computer Technology|Machine Learning       blog  \n212               Computer Technology|Machine Learning       blog  \n428               Computer Technology|Machine Learning       blog  \n432               Computer Technology|Machine Learning       blog  \n433               Computer Technology|Machine Learning       blog  \n434               Computer Technology|Machine Learning       blog  \n459               Computer Technology|Machine Learning       blog  ",
            "text/html": "<div>\n<table border=\"1\" class=\"dataframe\">\n  <thead>\n    <tr style=\"text-align: right;\">\n      <th></th>\n      <th>_id</th>\n      <th>title</th>\n      <th>category</th>\n      <th>post_type</th>\n    </tr>\n  </thead>\n  <tbody>\n    <tr>\n      <th>110</th>\n      <td>5e5bdf4fd701ab08af792bfd</td>\n      <td>Artificial Intelligence</td>\n      <td>Computer Technology|Artificial Intelligence</td>\n      <td>blog</td>\n    </tr>\n    <tr>\n      <th>157</th>\n      <td>5e7bd922cfc8b713f5ac7da9</td>\n      <td>What sports will look like in the future</td>\n      <td>Computer Technology|Robotics|Data Science|Info...</td>\n      <td>blog</td>\n    </tr>\n    <tr>\n      <th>158</th>\n      <td>5e7c78fdcfc8b713f5ac7daa</td>\n      <td>Types Of AI.</td>\n      <td>Computer Technology|Artificial Intelligence</td>\n      <td>blog</td>\n    </tr>\n    <tr>\n      <th>174</th>\n      <td>5e81a4f2a3258347b42f21d3</td>\n      <td>7 Best Python Data Science Courses &amp; Certifica...</td>\n      <td>Computer Technology|Machine Learning</td>\n      <td>blog</td>\n    </tr>\n    <tr>\n      <th>212</th>\n      <td>5e897ab4a3258347b42f25ca</td>\n      <td>10 Best Artificial Intelligence (AI) Courses O...</td>\n      <td>Computer Technology|Machine Learning</td>\n      <td>blog</td>\n    </tr>\n    <tr>\n      <th>428</th>\n      <td>5ecd5d417023451e662235c5</td>\n      <td>Machine Learning”&amp;“Operations\" (MlOps)</td>\n      <td>Computer Technology|Machine Learning</td>\n      <td>blog</td>\n    </tr>\n    <tr>\n      <th>432</th>\n      <td>5ecf818376027d35905cbf03</td>\n      <td>GAN's INTRODUCTION</td>\n      <td>Computer Technology|Machine Learning</td>\n      <td>blog</td>\n    </tr>\n    <tr>\n      <th>433</th>\n      <td>5ecf96e876027d35905cbf46</td>\n      <td>GAN's Part(2)</td>\n      <td>Computer Technology|Machine Learning</td>\n      <td>blog</td>\n    </tr>\n    <tr>\n      <th>434</th>\n      <td>5ecfa0ca76027d35905cbf57</td>\n      <td>Recommend Systems Machine Learning</td>\n      <td>Computer Technology|Machine Learning</td>\n      <td>blog</td>\n    </tr>\n    <tr>\n      <th>459</th>\n      <td>5ed2502b76027d35905cc7db</td>\n      <td>Learning...</td>\n      <td>Computer Technology|Machine Learning</td>\n      <td>blog</td>\n    </tr>\n  </tbody>\n</table>\n</div>"
          },
          "metadata": {}
        }
      ]
    },
    {
      "metadata": {},
      "cell_type": "markdown",
      "source": "# Building a collabrative Recommendation system using SVD model"
    },
    {
      "metadata": {},
      "cell_type": "markdown",
      "source": "#### Recommending post based on user id"
    },
    {
      "metadata": {
        "trusted": true
      },
      "cell_type": "code",
      "source": "pd.DataFrame(views.groupby(['user_id','post_id'])['timestamp'].count())\nviews\nviewspt=views.pivot_table('timestamp',index='user_id',columns='post_id',aggfunc='count').fillna(0)\nviewspt.head()",
      "execution_count": 34,
      "outputs": [
        {
          "output_type": "execute_result",
          "execution_count": 34,
          "data": {
            "text/plain": "post_id                   5d62abaa65218653a132c956  5d6d39567fa40e1417a4931c  \\\nuser_id                                                                        \n5d60098a653a331687083238                       1.0                       1.0   \n5d610ae1653a331687083239                       0.0                       0.0   \n5d618359fc5fcf3bdd9a0910                       0.0                       0.0   \n5d6d2bb87fa40e1417a49315                       0.0                       0.0   \n5d7c994d5720533e15c3b1e9                       0.0                       0.0   \n\npost_id                   5d7d23315720533e15c3b1ee  5d7d405e5720533e15c3b1f3  \\\nuser_id                                                                        \n5d60098a653a331687083238                       0.0                       0.0   \n5d610ae1653a331687083239                       0.0                       0.0   \n5d618359fc5fcf3bdd9a0910                       0.0                       0.0   \n5d6d2bb87fa40e1417a49315                       0.0                       0.0   \n5d7c994d5720533e15c3b1e9                       0.0                       1.0   \n\npost_id                   5d80dfbc6c53455f896e600e  5d80e7c16c53455f896e6014  \\\nuser_id                                                                        \n5d60098a653a331687083238                       0.0                       0.0   \n5d610ae1653a331687083239                       1.0                       0.0   \n5d618359fc5fcf3bdd9a0910                       0.0                       1.0   \n5d6d2bb87fa40e1417a49315                       0.0                       0.0   \n5d7c994d5720533e15c3b1e9                       0.0                       0.0   \n\npost_id                   5d80ecfd6c53455f896e601a  5d81323a6c53455f896e6044  \\\nuser_id                                                                        \n5d60098a653a331687083238                       0.0                       0.0   \n5d610ae1653a331687083239                       0.0                       0.0   \n5d618359fc5fcf3bdd9a0910                       0.0                       0.0   \n5d6d2bb87fa40e1417a49315                       0.0                       0.0   \n5d7c994d5720533e15c3b1e9                       0.0                       0.0   \n\npost_id                   5d9b3514979d5962253c2f90  5d9b950768671220a1b2b153  \\\nuser_id                                                                        \n5d60098a653a331687083238                       0.0                       0.0   \n5d610ae1653a331687083239                       0.0                       0.0   \n5d618359fc5fcf3bdd9a0910                       0.0                       0.0   \n5d6d2bb87fa40e1417a49315                       0.0                       0.0   \n5d7c994d5720533e15c3b1e9                       0.0                       0.0   \n\npost_id                             ...             5ed23cf876027d35905cc790  \\\nuser_id                             ...                                        \n5d60098a653a331687083238            ...                                  0.0   \n5d610ae1653a331687083239            ...                                  0.0   \n5d618359fc5fcf3bdd9a0910            ...                                  0.0   \n5d6d2bb87fa40e1417a49315            ...                                  0.0   \n5d7c994d5720533e15c3b1e9            ...                                  0.0   \n\npost_id                   5ed23d4276027d35905cc798  5ed23e4d76027d35905cc7b8  \\\nuser_id                                                                        \n5d60098a653a331687083238                       0.0                       0.0   \n5d610ae1653a331687083239                       0.0                       0.0   \n5d618359fc5fcf3bdd9a0910                       0.0                       0.0   \n5d6d2bb87fa40e1417a49315                       0.0                       0.0   \n5d7c994d5720533e15c3b1e9                       0.0                       0.0   \n\npost_id                   5ed2502b76027d35905cc7db  5ed3476576027d35905cca1d  \\\nuser_id                                                                        \n5d60098a653a331687083238                       0.0                       0.0   \n5d610ae1653a331687083239                       0.0                       0.0   \n5d618359fc5fcf3bdd9a0910                       0.0                       0.0   \n5d6d2bb87fa40e1417a49315                       0.0                       0.0   \n5d7c994d5720533e15c3b1e9                       0.0                       0.0   \n\npost_id                   5ed3791976027d35905ccab6  5ed3820f76027d35905ccac8  \\\nuser_id                                                                        \n5d60098a653a331687083238                       0.0                       1.0   \n5d610ae1653a331687083239                       0.0                       0.0   \n5d618359fc5fcf3bdd9a0910                       0.0                       0.0   \n5d6d2bb87fa40e1417a49315                       0.0                       0.0   \n5d7c994d5720533e15c3b1e9                       0.0                       0.0   \n\npost_id                   5ed3ef4cbd514d602c1530f2  5ed415c6bd514d602c15312d  \\\nuser_id                                                                        \n5d60098a653a331687083238                       0.0                       0.0   \n5d610ae1653a331687083239                       0.0                       0.0   \n5d618359fc5fcf3bdd9a0910                       0.0                       0.0   \n5d6d2bb87fa40e1417a49315                       0.0                       0.0   \n5d7c994d5720533e15c3b1e9                       0.0                       0.0   \n\npost_id                   5ed4cbadbd514d602c1531a6  \nuser_id                                             \n5d60098a653a331687083238                       0.0  \n5d610ae1653a331687083239                       0.0  \n5d618359fc5fcf3bdd9a0910                       0.0  \n5d6d2bb87fa40e1417a49315                       0.0  \n5d7c994d5720533e15c3b1e9                       0.0  \n\n[5 rows x 495 columns]",
            "text/html": "<div>\n<table border=\"1\" class=\"dataframe\">\n  <thead>\n    <tr style=\"text-align: right;\">\n      <th>post_id</th>\n      <th>5d62abaa65218653a132c956</th>\n      <th>5d6d39567fa40e1417a4931c</th>\n      <th>5d7d23315720533e15c3b1ee</th>\n      <th>5d7d405e5720533e15c3b1f3</th>\n      <th>5d80dfbc6c53455f896e600e</th>\n      <th>5d80e7c16c53455f896e6014</th>\n      <th>5d80ecfd6c53455f896e601a</th>\n      <th>5d81323a6c53455f896e6044</th>\n      <th>5d9b3514979d5962253c2f90</th>\n      <th>5d9b950768671220a1b2b153</th>\n      <th>...</th>\n      <th>5ed23cf876027d35905cc790</th>\n      <th>5ed23d4276027d35905cc798</th>\n      <th>5ed23e4d76027d35905cc7b8</th>\n      <th>5ed2502b76027d35905cc7db</th>\n      <th>5ed3476576027d35905cca1d</th>\n      <th>5ed3791976027d35905ccab6</th>\n      <th>5ed3820f76027d35905ccac8</th>\n      <th>5ed3ef4cbd514d602c1530f2</th>\n      <th>5ed415c6bd514d602c15312d</th>\n      <th>5ed4cbadbd514d602c1531a6</th>\n    </tr>\n    <tr>\n      <th>user_id</th>\n      <th></th>\n      <th></th>\n      <th></th>\n      <th></th>\n      <th></th>\n      <th></th>\n      <th></th>\n      <th></th>\n      <th></th>\n      <th></th>\n      <th></th>\n      <th></th>\n      <th></th>\n      <th></th>\n      <th></th>\n      <th></th>\n      <th></th>\n      <th></th>\n      <th></th>\n      <th></th>\n      <th></th>\n    </tr>\n  </thead>\n  <tbody>\n    <tr>\n      <th>5d60098a653a331687083238</th>\n      <td>1.0</td>\n      <td>1.0</td>\n      <td>0.0</td>\n      <td>0.0</td>\n      <td>0.0</td>\n      <td>0.0</td>\n      <td>0.0</td>\n      <td>0.0</td>\n      <td>0.0</td>\n      <td>0.0</td>\n      <td>...</td>\n      <td>0.0</td>\n      <td>0.0</td>\n      <td>0.0</td>\n      <td>0.0</td>\n      <td>0.0</td>\n      <td>0.0</td>\n      <td>1.0</td>\n      <td>0.0</td>\n      <td>0.0</td>\n      <td>0.0</td>\n    </tr>\n    <tr>\n      <th>5d610ae1653a331687083239</th>\n      <td>0.0</td>\n      <td>0.0</td>\n      <td>0.0</td>\n      <td>0.0</td>\n      <td>1.0</td>\n      <td>0.0</td>\n      <td>0.0</td>\n      <td>0.0</td>\n      <td>0.0</td>\n      <td>0.0</td>\n      <td>...</td>\n      <td>0.0</td>\n      <td>0.0</td>\n      <td>0.0</td>\n      <td>0.0</td>\n      <td>0.0</td>\n      <td>0.0</td>\n      <td>0.0</td>\n      <td>0.0</td>\n      <td>0.0</td>\n      <td>0.0</td>\n    </tr>\n    <tr>\n      <th>5d618359fc5fcf3bdd9a0910</th>\n      <td>0.0</td>\n      <td>0.0</td>\n      <td>0.0</td>\n      <td>0.0</td>\n      <td>0.0</td>\n      <td>1.0</td>\n      <td>0.0</td>\n      <td>0.0</td>\n      <td>0.0</td>\n      <td>0.0</td>\n      <td>...</td>\n      <td>0.0</td>\n      <td>0.0</td>\n      <td>0.0</td>\n      <td>0.0</td>\n      <td>0.0</td>\n      <td>0.0</td>\n      <td>0.0</td>\n      <td>0.0</td>\n      <td>0.0</td>\n      <td>0.0</td>\n    </tr>\n    <tr>\n      <th>5d6d2bb87fa40e1417a49315</th>\n      <td>0.0</td>\n      <td>0.0</td>\n      <td>0.0</td>\n      <td>0.0</td>\n      <td>0.0</td>\n      <td>0.0</td>\n      <td>0.0</td>\n      <td>0.0</td>\n      <td>0.0</td>\n      <td>0.0</td>\n      <td>...</td>\n      <td>0.0</td>\n      <td>0.0</td>\n      <td>0.0</td>\n      <td>0.0</td>\n      <td>0.0</td>\n      <td>0.0</td>\n      <td>0.0</td>\n      <td>0.0</td>\n      <td>0.0</td>\n      <td>0.0</td>\n    </tr>\n    <tr>\n      <th>5d7c994d5720533e15c3b1e9</th>\n      <td>0.0</td>\n      <td>0.0</td>\n      <td>0.0</td>\n      <td>1.0</td>\n      <td>0.0</td>\n      <td>0.0</td>\n      <td>0.0</td>\n      <td>0.0</td>\n      <td>0.0</td>\n      <td>0.0</td>\n      <td>...</td>\n      <td>0.0</td>\n      <td>0.0</td>\n      <td>0.0</td>\n      <td>0.0</td>\n      <td>0.0</td>\n      <td>0.0</td>\n      <td>0.0</td>\n      <td>0.0</td>\n      <td>0.0</td>\n      <td>0.0</td>\n    </tr>\n  </tbody>\n</table>\n<p>5 rows × 495 columns</p>\n</div>"
          },
          "metadata": {}
        }
      ]
    },
    {
      "metadata": {
        "trusted": true
      },
      "cell_type": "code",
      "source": "viewsptm=viewspt.as_matrix()",
      "execution_count": 35,
      "outputs": []
    },
    {
      "metadata": {
        "trusted": true
      },
      "cell_type": "code",
      "source": "from scipy.sparse.linalg import svds\nU, sigma, Vt = svds(viewsptm, k = 50)\nsigma = np.diag(sigma)",
      "execution_count": 36,
      "outputs": []
    },
    {
      "metadata": {
        "trusted": true
      },
      "cell_type": "code",
      "source": "all_user_predicted_views = np.dot(np.dot(U, sigma), Vt)\npreds = pd.DataFrame(all_user_predicted_views,index=viewspt.index,columns = viewspt.columns)\npreds.head()",
      "execution_count": 37,
      "outputs": [
        {
          "output_type": "execute_result",
          "execution_count": 37,
          "data": {
            "text/plain": "post_id                   5d62abaa65218653a132c956  5d6d39567fa40e1417a4931c  \\\nuser_id                                                                        \n5d60098a653a331687083238                  0.997610                  0.997610   \n5d610ae1653a331687083239                  0.000341                  0.000341   \n5d618359fc5fcf3bdd9a0910                 -0.000656                 -0.000656   \n5d6d2bb87fa40e1417a49315                  0.000899                  0.000899   \n5d7c994d5720533e15c3b1e9                  0.000386                  0.000386   \n\npost_id                   5d7d23315720533e15c3b1ee  5d7d405e5720533e15c3b1f3  \\\nuser_id                                                                        \n5d60098a653a331687083238                  0.001024                  0.000045   \n5d610ae1653a331687083239                 -0.000112                  0.000089   \n5d618359fc5fcf3bdd9a0910                 -0.001835                  0.003079   \n5d6d2bb87fa40e1417a49315                  0.001863                 -0.004619   \n5d7c994d5720533e15c3b1e9                  0.000295                  0.996118   \n\npost_id                   5d80dfbc6c53455f896e600e  5d80e7c16c53455f896e6014  \\\nuser_id                                                                        \n5d60098a653a331687083238                 -0.000218                 -0.001215   \n5d610ae1653a331687083239                  0.998127                  0.000708   \n5d618359fc5fcf3bdd9a0910                  0.006862                  0.965762   \n5d6d2bb87fa40e1417a49315                  0.003318                  0.000586   \n5d7c994d5720533e15c3b1e9                 -0.001632                 -0.000523   \n\npost_id                   5d80ecfd6c53455f896e601a  5d81323a6c53455f896e6044  \\\nuser_id                                                                        \n5d60098a653a331687083238                  0.001258                 -0.001205   \n5d610ae1653a331687083239                 -0.008257                  0.001708   \n5d618359fc5fcf3bdd9a0910                  0.001536                 -0.004157   \n5d6d2bb87fa40e1417a49315                  0.001088                  0.001508   \n5d7c994d5720533e15c3b1e9                  0.000008                 -0.000002   \n\npost_id                   5d9b3514979d5962253c2f90  5d9b950768671220a1b2b153  \\\nuser_id                                                                        \n5d60098a653a331687083238              2.869469e-17                  0.000606   \n5d610ae1653a331687083239              4.023645e-18                  0.000057   \n5d618359fc5fcf3bdd9a0910              4.104023e-17                  0.002276   \n5d6d2bb87fa40e1417a49315              2.789017e-17                 -0.002227   \n5d7c994d5720533e15c3b1e9              1.589761e-17                 -0.000598   \n\npost_id                             ...             5ed23cf876027d35905cc790  \\\nuser_id                             ...                                        \n5d60098a653a331687083238            ...                            -0.000559   \n5d610ae1653a331687083239            ...                            -0.000284   \n5d618359fc5fcf3bdd9a0910            ...                             0.005870   \n5d6d2bb87fa40e1417a49315            ...                             0.004143   \n5d7c994d5720533e15c3b1e9            ...                            -0.001477   \n\npost_id                   5ed23d4276027d35905cc798  5ed23e4d76027d35905cc7b8  \\\nuser_id                                                                        \n5d60098a653a331687083238                 -0.001533                 -0.000559   \n5d610ae1653a331687083239                  0.001755                 -0.000284   \n5d618359fc5fcf3bdd9a0910                 -0.009252                  0.005870   \n5d6d2bb87fa40e1417a49315                  0.005035                  0.004143   \n5d7c994d5720533e15c3b1e9                  0.001311                 -0.001477   \n\npost_id                   5ed2502b76027d35905cc7db  5ed3476576027d35905cca1d  \\\nuser_id                                                                        \n5d60098a653a331687083238                  0.002400                  0.001812   \n5d610ae1653a331687083239                 -0.000047                  0.005063   \n5d618359fc5fcf3bdd9a0910                 -0.021317                 -0.022162   \n5d6d2bb87fa40e1417a49315                 -0.002087                 -0.018803   \n5d7c994d5720533e15c3b1e9                 -0.000580                  0.005834   \n\npost_id                   5ed3791976027d35905ccab6  5ed3820f76027d35905ccac8  \\\nuser_id                                                                        \n5d60098a653a331687083238                  0.003392                  0.999469   \n5d610ae1653a331687083239                 -0.000090                  0.002005   \n5d618359fc5fcf3bdd9a0910                 -0.003306                 -0.013214   \n5d6d2bb87fa40e1417a49315                  0.002054                  0.007989   \n5d7c994d5720533e15c3b1e9                 -0.002015                 -0.000319   \n\npost_id                   5ed3ef4cbd514d602c1530f2  5ed415c6bd514d602c15312d  \\\nuser_id                                                                        \n5d60098a653a331687083238                 -0.000559                 -0.002092   \n5d610ae1653a331687083239                 -0.000284                  0.001471   \n5d618359fc5fcf3bdd9a0910                  0.005870                 -0.003382   \n5d6d2bb87fa40e1417a49315                  0.004143                  0.009178   \n5d7c994d5720533e15c3b1e9                 -0.001477                 -0.000166   \n\npost_id                   5ed4cbadbd514d602c1531a6  \nuser_id                                             \n5d60098a653a331687083238                  0.003951  \n5d610ae1653a331687083239                  0.000194  \n5d618359fc5fcf3bdd9a0910                 -0.009175  \n5d6d2bb87fa40e1417a49315                 -0.002089  \n5d7c994d5720533e15c3b1e9                 -0.000538  \n\n[5 rows x 495 columns]",
            "text/html": "<div>\n<table border=\"1\" class=\"dataframe\">\n  <thead>\n    <tr style=\"text-align: right;\">\n      <th>post_id</th>\n      <th>5d62abaa65218653a132c956</th>\n      <th>5d6d39567fa40e1417a4931c</th>\n      <th>5d7d23315720533e15c3b1ee</th>\n      <th>5d7d405e5720533e15c3b1f3</th>\n      <th>5d80dfbc6c53455f896e600e</th>\n      <th>5d80e7c16c53455f896e6014</th>\n      <th>5d80ecfd6c53455f896e601a</th>\n      <th>5d81323a6c53455f896e6044</th>\n      <th>5d9b3514979d5962253c2f90</th>\n      <th>5d9b950768671220a1b2b153</th>\n      <th>...</th>\n      <th>5ed23cf876027d35905cc790</th>\n      <th>5ed23d4276027d35905cc798</th>\n      <th>5ed23e4d76027d35905cc7b8</th>\n      <th>5ed2502b76027d35905cc7db</th>\n      <th>5ed3476576027d35905cca1d</th>\n      <th>5ed3791976027d35905ccab6</th>\n      <th>5ed3820f76027d35905ccac8</th>\n      <th>5ed3ef4cbd514d602c1530f2</th>\n      <th>5ed415c6bd514d602c15312d</th>\n      <th>5ed4cbadbd514d602c1531a6</th>\n    </tr>\n    <tr>\n      <th>user_id</th>\n      <th></th>\n      <th></th>\n      <th></th>\n      <th></th>\n      <th></th>\n      <th></th>\n      <th></th>\n      <th></th>\n      <th></th>\n      <th></th>\n      <th></th>\n      <th></th>\n      <th></th>\n      <th></th>\n      <th></th>\n      <th></th>\n      <th></th>\n      <th></th>\n      <th></th>\n      <th></th>\n      <th></th>\n    </tr>\n  </thead>\n  <tbody>\n    <tr>\n      <th>5d60098a653a331687083238</th>\n      <td>0.997610</td>\n      <td>0.997610</td>\n      <td>0.001024</td>\n      <td>0.000045</td>\n      <td>-0.000218</td>\n      <td>-0.001215</td>\n      <td>0.001258</td>\n      <td>-0.001205</td>\n      <td>2.869469e-17</td>\n      <td>0.000606</td>\n      <td>...</td>\n      <td>-0.000559</td>\n      <td>-0.001533</td>\n      <td>-0.000559</td>\n      <td>0.002400</td>\n      <td>0.001812</td>\n      <td>0.003392</td>\n      <td>0.999469</td>\n      <td>-0.000559</td>\n      <td>-0.002092</td>\n      <td>0.003951</td>\n    </tr>\n    <tr>\n      <th>5d610ae1653a331687083239</th>\n      <td>0.000341</td>\n      <td>0.000341</td>\n      <td>-0.000112</td>\n      <td>0.000089</td>\n      <td>0.998127</td>\n      <td>0.000708</td>\n      <td>-0.008257</td>\n      <td>0.001708</td>\n      <td>4.023645e-18</td>\n      <td>0.000057</td>\n      <td>...</td>\n      <td>-0.000284</td>\n      <td>0.001755</td>\n      <td>-0.000284</td>\n      <td>-0.000047</td>\n      <td>0.005063</td>\n      <td>-0.000090</td>\n      <td>0.002005</td>\n      <td>-0.000284</td>\n      <td>0.001471</td>\n      <td>0.000194</td>\n    </tr>\n    <tr>\n      <th>5d618359fc5fcf3bdd9a0910</th>\n      <td>-0.000656</td>\n      <td>-0.000656</td>\n      <td>-0.001835</td>\n      <td>0.003079</td>\n      <td>0.006862</td>\n      <td>0.965762</td>\n      <td>0.001536</td>\n      <td>-0.004157</td>\n      <td>4.104023e-17</td>\n      <td>0.002276</td>\n      <td>...</td>\n      <td>0.005870</td>\n      <td>-0.009252</td>\n      <td>0.005870</td>\n      <td>-0.021317</td>\n      <td>-0.022162</td>\n      <td>-0.003306</td>\n      <td>-0.013214</td>\n      <td>0.005870</td>\n      <td>-0.003382</td>\n      <td>-0.009175</td>\n    </tr>\n    <tr>\n      <th>5d6d2bb87fa40e1417a49315</th>\n      <td>0.000899</td>\n      <td>0.000899</td>\n      <td>0.001863</td>\n      <td>-0.004619</td>\n      <td>0.003318</td>\n      <td>0.000586</td>\n      <td>0.001088</td>\n      <td>0.001508</td>\n      <td>2.789017e-17</td>\n      <td>-0.002227</td>\n      <td>...</td>\n      <td>0.004143</td>\n      <td>0.005035</td>\n      <td>0.004143</td>\n      <td>-0.002087</td>\n      <td>-0.018803</td>\n      <td>0.002054</td>\n      <td>0.007989</td>\n      <td>0.004143</td>\n      <td>0.009178</td>\n      <td>-0.002089</td>\n    </tr>\n    <tr>\n      <th>5d7c994d5720533e15c3b1e9</th>\n      <td>0.000386</td>\n      <td>0.000386</td>\n      <td>0.000295</td>\n      <td>0.996118</td>\n      <td>-0.001632</td>\n      <td>-0.000523</td>\n      <td>0.000008</td>\n      <td>-0.000002</td>\n      <td>1.589761e-17</td>\n      <td>-0.000598</td>\n      <td>...</td>\n      <td>-0.001477</td>\n      <td>0.001311</td>\n      <td>-0.001477</td>\n      <td>-0.000580</td>\n      <td>0.005834</td>\n      <td>-0.002015</td>\n      <td>-0.000319</td>\n      <td>-0.001477</td>\n      <td>-0.000166</td>\n      <td>-0.000538</td>\n    </tr>\n  </tbody>\n</table>\n<p>5 rows × 495 columns</p>\n</div>"
          },
          "metadata": {}
        }
      ]
    },
    {
      "metadata": {
        "trusted": true
      },
      "cell_type": "code",
      "source": "def recommend_posts(user_id):\n    \n    sorted_user_predictions = preds.loc[user_id].sort_values(ascending=False)\n    supdf=pd.DataFrame(sorted_user_predictions).reset_index()\n    supdf.columns = ['post_id', 'value']\n    \n    # Recommend the highest predicted views posts that the user hasn't seen yet.\n    recommendations =posts[~posts['_id'].isin(views[views['user_id']==user_id]['post_id'])].merge(supdf, how = 'left',left_on = '_id',right_on = 'post_id').sort_values('value', ascending = False).iloc[:20,0:4]\n\n    return recommendations",
      "execution_count": 38,
      "outputs": []
    },
    {
      "metadata": {},
      "cell_type": "markdown",
      "source": "# Using the recommend_posts() to get new recommendation for a user_id"
    },
    {
      "metadata": {
        "trusted": true,
        "scrolled": true
      },
      "cell_type": "code",
      "source": "recommend_posts(\"5d6d2bb87fa40e1417a49315\")",
      "execution_count": 39,
      "outputs": [
        {
          "output_type": "execute_result",
          "execution_count": 39,
          "data": {
            "text/plain": "                          _id  \\\n408  5ecfa0ca76027d35905cbf57   \n395  5ec573a3f2781131cc7e51b8   \n159  5e7cc074cfc8b713f5ac7db0   \n404  5ecdecc67023451e66223765   \n416  5ed141aa76027d35905cc4c9   \n374  5eb4fab110426255a7aaa0ed   \n210  5e895d87a3258347b42f25bb   \n393  5ec54fc9f2781131cc7e50f5   \n334  5ea85c1f10426255a7aa9c05   \n396  5ec57914f2781131cc7e51c8   \n263  5e95f44ba3258347b42f2a31   \n25   5de8d73249e8203ff9219a74   \n386  5ec278b574f7660d73aa10d5   \n409  5ecfafcc76027d35905cbfb0   \n385  5ebd5b46514aab59896bcd5a   \n279  5e977f94a3258347b42f2af9   \n392  5ec3c09274f7660d73aa1229   \n325  5ea31e5610426255a7aa9ab0   \n234  5e9483b6a3258347b42f2860   \n367  5eb159a610426255a7aaa015   \n\n                                                 title  \\\n408                 Recommend Systems Machine Learning   \n395                            My First Animated Post.   \n159                                          REAL TALK   \n404                   Looking at nature through nature   \n416    Integrating Machine Learning with devOps(MLops)   \n374                                        God Drawing   \n210                   Benefits Of A Virtual Portfolio.   \n393                   Future Communication Predictions   \n334                    Innovative Marketing Strategies   \n396                      The Power of Indian Audience.   \n263                       Stand alone and stand apart.   \n25                                  Promotional video.   \n386                                              Rides   \n409  I was rejected over 200 times before I landed ...   \n385                    Quick Sketch of Gangster Skull.   \n279                                         Aesthetics   \n392                                    Dakrai Artwork.   \n325                                          Dusk sky.   \n234                                              PEACE   \n367                      PRINCIPLES OF DESIGN (RHYTHM)   \n\n                                              category  post_type  \n408               Computer Technology|Machine Learning       blog  \n395                                       Art; Science      skill  \n159                       Philosophy|Public Philosophy       blog  \n404                                        Photography    artwork  \n416                   Computer Technology|Data Science       blog  \n374                                           Drawings    artwork  \n210            Graphics|Articulation|Computer Creation       blog  \n393                                 Science;Technology      skill  \n334  Marketing|Principles Of Marketing|Internationa...       blog  \n396                                                Art      skill  \n263        Social Work|Humanities|Social Interventions       blog  \n25                                       Video editing      skill  \n386                                           Drawings    artwork  \n409                       Sociology|Sociology in India       blog  \n385                                       Sketch Video      skill  \n279                                        Photography    artwork  \n392                                        Pen and ink    artwork  \n325                                        Photography    artwork  \n234                                        Photography    artwork  \n367           Craft|Drawings|Conceptual|2D Composition    artwork  ",
            "text/html": "<div>\n<table border=\"1\" class=\"dataframe\">\n  <thead>\n    <tr style=\"text-align: right;\">\n      <th></th>\n      <th>_id</th>\n      <th>title</th>\n      <th>category</th>\n      <th>post_type</th>\n    </tr>\n  </thead>\n  <tbody>\n    <tr>\n      <th>408</th>\n      <td>5ecfa0ca76027d35905cbf57</td>\n      <td>Recommend Systems Machine Learning</td>\n      <td>Computer Technology|Machine Learning</td>\n      <td>blog</td>\n    </tr>\n    <tr>\n      <th>395</th>\n      <td>5ec573a3f2781131cc7e51b8</td>\n      <td>My First Animated Post.</td>\n      <td>Art; Science</td>\n      <td>skill</td>\n    </tr>\n    <tr>\n      <th>159</th>\n      <td>5e7cc074cfc8b713f5ac7db0</td>\n      <td>REAL TALK</td>\n      <td>Philosophy|Public Philosophy</td>\n      <td>blog</td>\n    </tr>\n    <tr>\n      <th>404</th>\n      <td>5ecdecc67023451e66223765</td>\n      <td>Looking at nature through nature</td>\n      <td>Photography</td>\n      <td>artwork</td>\n    </tr>\n    <tr>\n      <th>416</th>\n      <td>5ed141aa76027d35905cc4c9</td>\n      <td>Integrating Machine Learning with devOps(MLops)</td>\n      <td>Computer Technology|Data Science</td>\n      <td>blog</td>\n    </tr>\n    <tr>\n      <th>374</th>\n      <td>5eb4fab110426255a7aaa0ed</td>\n      <td>God Drawing</td>\n      <td>Drawings</td>\n      <td>artwork</td>\n    </tr>\n    <tr>\n      <th>210</th>\n      <td>5e895d87a3258347b42f25bb</td>\n      <td>Benefits Of A Virtual Portfolio.</td>\n      <td>Graphics|Articulation|Computer Creation</td>\n      <td>blog</td>\n    </tr>\n    <tr>\n      <th>393</th>\n      <td>5ec54fc9f2781131cc7e50f5</td>\n      <td>Future Communication Predictions</td>\n      <td>Science;Technology</td>\n      <td>skill</td>\n    </tr>\n    <tr>\n      <th>334</th>\n      <td>5ea85c1f10426255a7aa9c05</td>\n      <td>Innovative Marketing Strategies</td>\n      <td>Marketing|Principles Of Marketing|Internationa...</td>\n      <td>blog</td>\n    </tr>\n    <tr>\n      <th>396</th>\n      <td>5ec57914f2781131cc7e51c8</td>\n      <td>The Power of Indian Audience.</td>\n      <td>Art</td>\n      <td>skill</td>\n    </tr>\n    <tr>\n      <th>263</th>\n      <td>5e95f44ba3258347b42f2a31</td>\n      <td>Stand alone and stand apart.</td>\n      <td>Social Work|Humanities|Social Interventions</td>\n      <td>blog</td>\n    </tr>\n    <tr>\n      <th>25</th>\n      <td>5de8d73249e8203ff9219a74</td>\n      <td>Promotional video.</td>\n      <td>Video editing</td>\n      <td>skill</td>\n    </tr>\n    <tr>\n      <th>386</th>\n      <td>5ec278b574f7660d73aa10d5</td>\n      <td>Rides</td>\n      <td>Drawings</td>\n      <td>artwork</td>\n    </tr>\n    <tr>\n      <th>409</th>\n      <td>5ecfafcc76027d35905cbfb0</td>\n      <td>I was rejected over 200 times before I landed ...</td>\n      <td>Sociology|Sociology in India</td>\n      <td>blog</td>\n    </tr>\n    <tr>\n      <th>385</th>\n      <td>5ebd5b46514aab59896bcd5a</td>\n      <td>Quick Sketch of Gangster Skull.</td>\n      <td>Sketch Video</td>\n      <td>skill</td>\n    </tr>\n    <tr>\n      <th>279</th>\n      <td>5e977f94a3258347b42f2af9</td>\n      <td>Aesthetics</td>\n      <td>Photography</td>\n      <td>artwork</td>\n    </tr>\n    <tr>\n      <th>392</th>\n      <td>5ec3c09274f7660d73aa1229</td>\n      <td>Dakrai Artwork.</td>\n      <td>Pen and ink</td>\n      <td>artwork</td>\n    </tr>\n    <tr>\n      <th>325</th>\n      <td>5ea31e5610426255a7aa9ab0</td>\n      <td>Dusk sky.</td>\n      <td>Photography</td>\n      <td>artwork</td>\n    </tr>\n    <tr>\n      <th>234</th>\n      <td>5e9483b6a3258347b42f2860</td>\n      <td>PEACE</td>\n      <td>Photography</td>\n      <td>artwork</td>\n    </tr>\n    <tr>\n      <th>367</th>\n      <td>5eb159a610426255a7aaa015</td>\n      <td>PRINCIPLES OF DESIGN (RHYTHM)</td>\n      <td>Craft|Drawings|Conceptual|2D Composition</td>\n      <td>artwork</td>\n    </tr>\n  </tbody>\n</table>\n</div>"
          },
          "metadata": {}
        }
      ]
    },
    {
      "metadata": {},
      "cell_type": "markdown",
      "source": "# Evaluating Performance"
    },
    {
      "metadata": {
        "trusted": true
      },
      "cell_type": "code",
      "source": "df=pd.DataFrame(views.groupby(['user_id','post_id']).count())\ndf.reset_index(inplace=True)\ndf.index.set_names(['user_id'])\ndf.columns=['user_id','post_id','count']\ndf['count'].max()",
      "execution_count": 93,
      "outputs": [
        {
          "output_type": "execute_result",
          "execution_count": 93,
          "data": {
            "text/plain": "5"
          },
          "metadata": {}
        }
      ]
    },
    {
      "metadata": {
        "trusted": true
      },
      "cell_type": "code",
      "source": "from surprise import Reader, Dataset, SVD\nfrom surprise.model_selection import cross_validate\n\nreader = Reader(rating_scale=(1, 5))\ndata = Dataset.load_from_df(df[['user_id', 'post_id', 'count']],reader=reader)\n\n# Use the SVD algorithm\nalgo = SVD()\n\n# Run 5-fold cross-validation and then print results\ncross_validate(algo, data, measures=['rmse', 'mae'], cv=5, verbose=True)",
      "execution_count": 95,
      "outputs": [
        {
          "output_type": "stream",
          "text": "Evaluating RMSE, MAE of algorithm SVD on 5 split(s).\n\n                  Fold 1  Fold 2  Fold 3  Fold 4  Fold 5  Mean    Std     \nMAE (testset)     0.1034  0.0738  0.0877  0.0965  0.0835  0.0890  0.0103  \nRMSE (testset)    0.3081  0.1713  0.2114  0.2383  0.1598  0.2178  0.0532  \nFit time          0.22    0.24    0.28    0.25    0.26    0.25    0.02    \nTest time         0.00    0.01    0.01    0.00    0.01    0.01    0.00    \n",
          "name": "stdout"
        },
        {
          "output_type": "execute_result",
          "execution_count": 95,
          "data": {
            "text/plain": "{'fit_time': (0.21883821487426758,\n  0.23605060577392578,\n  0.27849650382995605,\n  0.2473597526550293,\n  0.2634556293487549),\n 'test_mae': array([0.1034119 , 0.07380524, 0.08770352, 0.09648961, 0.08348562]),\n 'test_rmse': array([0.30812272, 0.17134996, 0.2114109 , 0.23829331, 0.15978283]),\n 'test_time': (0.002239704132080078,\n  0.009438037872314453,\n  0.009448051452636719,\n  0.002667665481567383,\n  0.005807161331176758)}"
          },
          "metadata": {}
        }
      ]
    },
    {
      "metadata": {},
      "cell_type": "markdown",
      "source": "A RMSE value of 0.2178 tells us that model is a good fit."
    },
    {
      "metadata": {},
      "cell_type": "markdown",
      "source": "#### Work by Nishant Agrawal"
    }
  ],
  "metadata": {
    "kernelspec": {
      "name": "python3",
      "display_name": "Python 3",
      "language": "python"
    },
    "language_info": {
      "mimetype": "text/x-python",
      "nbconvert_exporter": "python",
      "name": "python",
      "file_extension": ".py",
      "version": "3.5.4",
      "pygments_lexer": "ipython3",
      "codemirror_mode": {
        "version": 3,
        "name": "ipython"
      }
    }
  },
  "nbformat": 4,
  "nbformat_minor": 2
}